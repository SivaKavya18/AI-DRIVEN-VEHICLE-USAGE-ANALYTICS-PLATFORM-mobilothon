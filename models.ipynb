{
  "nbformat": 4,
  "nbformat_minor": 0,
  "metadata": {
    "colab": {
      "provenance": []
    },
    "kernelspec": {
      "name": "python3",
      "display_name": "Python 3"
    },
    "language_info": {
      "name": "python"
    }
  },
  "cells": [
    {
      "cell_type": "code",
      "execution_count": null,
      "metadata": {
        "colab": {
          "base_uri": "https://localhost:8080/"
        },
        "id": "YZc1PQI6v-AL",
        "outputId": "7e5812e4-7309-4b98-dc18-2c08e622da7e"
      },
      "outputs": [
        {
          "output_type": "stream",
          "name": "stdout",
          "text": [
            "Mean Squared Error for Fuel Efficiency Prediction: 0.06\n"
          ]
        }
      ],
      "source": [
        "from sklearn.linear_model import Ridge\n",
        "from sklearn.metrics import mean_squared_error\n",
        "from sklearn.model_selection import train_test_split\n",
        "import pandas as pd\n",
        "\n",
        "data=pd.read_csv('vehicle telemantics.csv')\n",
        "data.head()\n",
        "\n",
        "# Fuel Efficiency Prediction (km/l)\n",
        "X_fuel = data[['gps_speed', 'maf', 'rpm', 'eLoad']]  # Features related to fuel consumption\n",
        "y_fuel = data['kpl']  # Target is kilometers per liter (fuel efficiency)\n",
        "\n",
        "# Split data\n",
        "X_train, X_test, y_train, y_test = train_test_split(X_fuel, y_fuel, test_size=0.2, random_state=42)\n",
        "\n",
        "# Ridge Regression for Fuel Efficiency Prediction\n",
        "ridge_model = Ridge(alpha=1.0)\n",
        "ridge_model.fit(X_train, y_train)\n",
        "fuel_prediction = ridge_model.predict(X_test)\n",
        "\n",
        "# Evaluate Model\n",
        "fuel_mse = mean_squared_error(y_test, fuel_prediction)\n",
        "print(f\"Mean Squared Error for Fuel Efficiency Prediction: {fuel_mse:.2f}\")\n"
      ]
    },
    {
      "cell_type": "code",
      "source": [
        "import joblib\n",
        "\n",
        "# Save the ridge_model to a file\n",
        "joblib.dump(ridge_model, 'ridge_fuel_efficiency_model.joblib')\n"
      ],
      "metadata": {
        "colab": {
          "base_uri": "https://localhost:8080/"
        },
        "id": "OrXdeg-6xO5G",
        "outputId": "9ef45c14-9d4b-4185-f940-9f9a1cf688a5"
      },
      "execution_count": null,
      "outputs": [
        {
          "output_type": "execute_result",
          "data": {
            "text/plain": [
              "['ridge_fuel_efficiency_model.joblib']"
            ]
          },
          "metadata": {},
          "execution_count": 9
        }
      ]
    },
    {
      "cell_type": "code",
      "source": [
        "import pandas as pd\n",
        "import numpy as np\n",
        "from sklearn.ensemble import RandomForestClassifier\n",
        "from sklearn.cluster import KMeans\n",
        "from tensorflow.keras.models import Sequential\n",
        "from tensorflow.keras.layers import LSTM, Dense\n",
        "from sklearn.model_selection import train_test_split\n",
        "from sklearn.preprocessing import MinMaxScaler\n",
        "from tensorflow.keras.optimizers import Adam\n",
        "data = pd.read_csv('vehicle telemantics.csv')\n",
        "data['accData'] = data['total_acceleration']\n",
        "data['driving_behavior'] = (\n",
        "    (data['rpm'] >= 3000) |\n",
        "    (data['accData'] >= 0.987) |\n",
        "    (data['speed'] >= 70)\n",
        ").astype(int)\n",
        "X = data[['accData', 'rpm', 'speed', 'tPos']]\n",
        "y = data['driving_behavior']\n",
        "print(X.head())\n",
        "print(y.head())\n",
        "X_train, X_test, y_train, y_test = train_test_split(X, y, test_size=0.2, random_state=42)\n",
        "# Random Forest Classifier\n",
        "rf_model = RandomForestClassifier(n_estimators=100, random_state=42)\n",
        "rf_model.fit(X_train, y_train)\n",
        "rf_accuracy = rf_model.score(X_test, y_test)\n",
        "print(f\"Random Forest Classification Accuracy: {rf_accuracy:.2f}\")\n",
        "\n",
        "sequence_length = 10  # Use 10 data points per sequence\n",
        "X_lstm = []\n",
        "y_lstm = []\n",
        "\n",
        "# Scaling the features for LSTM to improve performance\n",
        "scaler = MinMaxScaler()\n",
        "X_scaled = scaler.fit_transform(X)\n",
        "\n",
        "for i in range(len(X_scaled) - sequence_length):\n",
        "    X_lstm.append(X_scaled[i:i + sequence_length])\n",
        "    y_lstm.append(y.iloc[i + sequence_length])\n",
        "\n",
        "X_lstm, y_lstm = np.array(X_lstm), np.array(y_lstm)\n",
        "\n",
        "# Building and compiling the LSTM model\n",
        "lstm_model = Sequential([\n",
        "    LSTM(50, activation='relu', return_sequences=True, input_shape=(X_lstm.shape[1], X_lstm.shape[2])),\n",
        "    LSTM(30, activation='relu'),\n",
        "    Dense(25, activation='relu'),\n",
        "    Dense(1, activation='sigmoid')\n",
        "])\n",
        "lstm_model.compile(optimizer=Adam(learning_rate=0.005), loss='binary_crossentropy', metrics=['accuracy'])\n",
        "\n",
        "# Training the LSTM model\n",
        "lstm_history = lstm_model.fit(X_lstm, y_lstm, epochs=160, batch_size=32, validation_split=0.2)\n",
        "\n",
        "# To evaluate the LSTM model, you can print the final accuracy and loss or plot training history\n",
        "final_accuracy = lstm_history.history['accuracy'][-1]\n",
        "final_loss = lstm_history.history['loss'][-1]\n",
        "print(f\"Final Training Accuracy of LSTM: {final_accuracy:.2f}\")\n",
        "print(f\"Final Training Loss of LSTM: {final_loss:.2f}\")\n"
      ],
      "metadata": {
        "colab": {
          "base_uri": "https://localhost:8080/"
        },
        "id": "pKE03LXSMVlQ",
        "outputId": "af315dc6-de5f-4d0d-ecba-7a4b041cbc8f"
      },
      "execution_count": null,
      "outputs": [
        {
          "output_type": "stream",
          "name": "stdout",
          "text": [
            "    accData      rpm  speed     tPos\n",
            "0  0.969200  1251.75     41  12.5490\n",
            "1  0.997021  1221.50     41  32.9412\n",
            "2  0.966317  1262.25     42  36.8627\n",
            "3  0.985600  1277.00     42  13.3333\n",
            "4  0.983481  1277.75     43  27.4510\n",
            "0    0\n",
            "1    1\n",
            "2    0\n",
            "3    0\n",
            "4    0\n",
            "Name: driving_behavior, dtype: int64\n",
            "driving_behavior\n",
            "0    60\n",
            "1    27\n",
            "Name: count, dtype: int64\n",
            "Random Forest Classification Accuracy: 0.94\n",
            "driving_cluster\n",
            "1    59\n",
            "0    16\n",
            "2    12\n",
            "Name: count, dtype: int64\n",
            "Epoch 1/160\n"
          ]
        },
        {
          "output_type": "stream",
          "name": "stderr",
          "text": [
            "/usr/local/lib/python3.10/dist-packages/keras/src/layers/rnn/rnn.py:204: UserWarning: Do not pass an `input_shape`/`input_dim` argument to a layer. When using Sequential models, prefer using an `Input(shape)` object as the first layer in the model instead.\n",
            "  super().__init__(**kwargs)\n"
          ]
        },
        {
          "output_type": "stream",
          "name": "stdout",
          "text": [
            "\u001b[1m2/2\u001b[0m \u001b[32m━━━━━━━━━━━━━━━━━━━━\u001b[0m\u001b[37m\u001b[0m \u001b[1m6s\u001b[0m 2s/step - accuracy: 0.6762 - loss: 0.6914 - val_accuracy: 0.7500 - val_loss: 0.6661\n",
            "Epoch 2/160\n",
            "\u001b[1m2/2\u001b[0m \u001b[32m━━━━━━━━━━━━━━━━━━━━\u001b[0m\u001b[37m\u001b[0m \u001b[1m1s\u001b[0m 72ms/step - accuracy: 0.6872 - loss: 0.6730 - val_accuracy: 0.7500 - val_loss: 0.6355\n",
            "Epoch 3/160\n",
            "\u001b[1m2/2\u001b[0m \u001b[32m━━━━━━━━━━━━━━━━━━━━\u001b[0m\u001b[37m\u001b[0m \u001b[1m0s\u001b[0m 79ms/step - accuracy: 0.6663 - loss: 0.6561 - val_accuracy: 0.7500 - val_loss: 0.5862\n",
            "Epoch 4/160\n",
            "\u001b[1m2/2\u001b[0m \u001b[32m━━━━━━━━━━━━━━━━━━━━\u001b[0m\u001b[37m\u001b[0m \u001b[1m0s\u001b[0m 75ms/step - accuracy: 0.6767 - loss: 0.6382 - val_accuracy: 0.7500 - val_loss: 0.5507\n",
            "Epoch 5/160\n",
            "\u001b[1m2/2\u001b[0m \u001b[32m━━━━━━━━━━━━━━━━━━━━\u001b[0m\u001b[37m\u001b[0m \u001b[1m0s\u001b[0m 82ms/step - accuracy: 0.6872 - loss: 0.6232 - val_accuracy: 0.7500 - val_loss: 0.5508\n",
            "Epoch 6/160\n",
            "\u001b[1m2/2\u001b[0m \u001b[32m━━━━━━━━━━━━━━━━━━━━\u001b[0m\u001b[37m\u001b[0m \u001b[1m0s\u001b[0m 83ms/step - accuracy: 0.6663 - loss: 0.6338 - val_accuracy: 0.7500 - val_loss: 0.5714\n",
            "Epoch 7/160\n",
            "\u001b[1m2/2\u001b[0m \u001b[32m━━━━━━━━━━━━━━━━━━━━\u001b[0m\u001b[37m\u001b[0m \u001b[1m0s\u001b[0m 57ms/step - accuracy: 0.6872 - loss: 0.6199 - val_accuracy: 0.7500 - val_loss: 0.5823\n",
            "Epoch 8/160\n",
            "\u001b[1m2/2\u001b[0m \u001b[32m━━━━━━━━━━━━━━━━━━━━\u001b[0m\u001b[37m\u001b[0m \u001b[1m0s\u001b[0m 50ms/step - accuracy: 0.6247 - loss: 0.6613 - val_accuracy: 0.7500 - val_loss: 0.5934\n",
            "Epoch 9/160\n",
            "\u001b[1m2/2\u001b[0m \u001b[32m━━━━━━━━━━━━━━━━━━━━\u001b[0m\u001b[37m\u001b[0m \u001b[1m0s\u001b[0m 45ms/step - accuracy: 0.6872 - loss: 0.6289 - val_accuracy: 0.7500 - val_loss: 0.5921\n",
            "Epoch 10/160\n",
            "\u001b[1m2/2\u001b[0m \u001b[32m━━━━━━━━━━━━━━━━━━━━\u001b[0m\u001b[37m\u001b[0m \u001b[1m0s\u001b[0m 47ms/step - accuracy: 0.6455 - loss: 0.6493 - val_accuracy: 0.7500 - val_loss: 0.5902\n",
            "Epoch 11/160\n",
            "\u001b[1m2/2\u001b[0m \u001b[32m━━━━━━━━━━━━━━━━━━━━\u001b[0m\u001b[37m\u001b[0m \u001b[1m0s\u001b[0m 44ms/step - accuracy: 0.6351 - loss: 0.6536 - val_accuracy: 0.7500 - val_loss: 0.5848\n",
            "Epoch 12/160\n",
            "\u001b[1m2/2\u001b[0m \u001b[32m━━━━━━━━━━━━━━━━━━━━\u001b[0m\u001b[37m\u001b[0m \u001b[1m0s\u001b[0m 46ms/step - accuracy: 0.6663 - loss: 0.6370 - val_accuracy: 0.7500 - val_loss: 0.5740\n",
            "Epoch 13/160\n",
            "\u001b[1m2/2\u001b[0m \u001b[32m━━━━━━━━━━━━━━━━━━━━\u001b[0m\u001b[37m\u001b[0m \u001b[1m0s\u001b[0m 45ms/step - accuracy: 0.6663 - loss: 0.6344 - val_accuracy: 0.7500 - val_loss: 0.5629\n",
            "Epoch 14/160\n",
            "\u001b[1m2/2\u001b[0m \u001b[32m━━━━━━━━━━━━━━━━━━━━\u001b[0m\u001b[37m\u001b[0m \u001b[1m0s\u001b[0m 50ms/step - accuracy: 0.6767 - loss: 0.6264 - val_accuracy: 0.7500 - val_loss: 0.5541\n",
            "Epoch 15/160\n",
            "\u001b[1m2/2\u001b[0m \u001b[32m━━━━━━━━━━━━━━━━━━━━\u001b[0m\u001b[37m\u001b[0m \u001b[1m0s\u001b[0m 45ms/step - accuracy: 0.6455 - loss: 0.6466 - val_accuracy: 0.7500 - val_loss: 0.5553\n",
            "Epoch 16/160\n",
            "\u001b[1m2/2\u001b[0m \u001b[32m━━━━━━━━━━━━━━━━━━━━\u001b[0m\u001b[37m\u001b[0m \u001b[1m0s\u001b[0m 54ms/step - accuracy: 0.6663 - loss: 0.6319 - val_accuracy: 0.7500 - val_loss: 0.5573\n",
            "Epoch 17/160\n",
            "\u001b[1m2/2\u001b[0m \u001b[32m━━━━━━━━━━━━━━━━━━━━\u001b[0m\u001b[37m\u001b[0m \u001b[1m0s\u001b[0m 45ms/step - accuracy: 0.6455 - loss: 0.6484 - val_accuracy: 0.7500 - val_loss: 0.5637\n",
            "Epoch 18/160\n",
            "\u001b[1m2/2\u001b[0m \u001b[32m━━━━━━━━━━━━━━━━━━━━\u001b[0m\u001b[37m\u001b[0m \u001b[1m0s\u001b[0m 43ms/step - accuracy: 0.6872 - loss: 0.6186 - val_accuracy: 0.7500 - val_loss: 0.5632\n",
            "Epoch 19/160\n",
            "\u001b[1m2/2\u001b[0m \u001b[32m━━━━━━━━━━━━━━━━━━━━\u001b[0m\u001b[37m\u001b[0m \u001b[1m0s\u001b[0m 48ms/step - accuracy: 0.6767 - loss: 0.6254 - val_accuracy: 0.7500 - val_loss: 0.5641\n",
            "Epoch 20/160\n",
            "\u001b[1m2/2\u001b[0m \u001b[32m━━━━━━━━━━━━━━━━━━━━\u001b[0m\u001b[37m\u001b[0m \u001b[1m0s\u001b[0m 45ms/step - accuracy: 0.6247 - loss: 0.6590 - val_accuracy: 0.7500 - val_loss: 0.5686\n",
            "Epoch 21/160\n"
          ]
        }
      ]
    },
    {
      "cell_type": "code",
      "source": [
        "import joblib\n",
        "\n",
        "# Save Random Forest model\n",
        "joblib.dump(rf_model, 'random_forest_model.joblib')\n"
      ],
      "metadata": {
        "colab": {
          "base_uri": "https://localhost:8080/"
        },
        "id": "yRot6x3oNgSr",
        "outputId": "2b8591d0-05c1-4e58-b3da-ac6f1c7723de"
      },
      "execution_count": null,
      "outputs": [
        {
          "output_type": "execute_result",
          "data": {
            "text/plain": [
              "['random_forest_model.joblib']"
            ]
          },
          "metadata": {},
          "execution_count": 20
        }
      ]
    },
    {
      "cell_type": "code",
      "source": [
        "# Save the entire LSTM model\n",
        "lstm_model.save('lstm_model.keras')\n"
      ],
      "metadata": {
        "id": "jHyTfV19Nqta"
      },
      "execution_count": null,
      "outputs": []
    }
  ]
}